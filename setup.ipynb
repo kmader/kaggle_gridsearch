{
 "cells": [
  {
   "cell_type": "code",
   "execution_count": 27,
   "metadata": {},
   "outputs": [],
   "source": [
    "USER_ID = 'kmader'\n",
    "USER_SECRET = ''"
   ]
  },
  {
   "cell_type": "code",
   "execution_count": 29,
   "metadata": {},
   "outputs": [],
   "source": [
    "import os, json\n",
    "os.makedirs('.kaggle', exist_ok = True)\n",
    "with open(os.path.join('.kaggle', 'kaggle.json'), 'w') as f:\n",
    "    json.dump({'username': USER_ID, 'key': USER_SECRET}, f)\n",
    "!chmod 600 .kaggle/kaggle.json"
   ]
  },
  {
   "cell_type": "code",
   "execution_count": 30,
   "metadata": {},
   "outputs": [],
   "source": [
    "notebook_meta_template = lambda user_id, title, file_id: {'id': f'{user_id}/{file_id}',\n",
    " 'title': f'{title}',\n",
    " 'code_file': 'hot-dog-not-hot-dog-gpu.ipynb',\n",
    " 'language': 'python',\n",
    " 'kernel_type': 'notebook',\n",
    " 'is_private': True,\n",
    " 'enable_gpu': True,\n",
    " 'enable_internet': False,\n",
    " 'keywords': [],\n",
    " 'dataset_sources': ['gaborfodor/keras-pretrained-models', 'kmader/food41'],\n",
    " 'kernel_sources': [],\n",
    " 'competition_sources': []}"
   ]
  },
  {
   "cell_type": "code",
   "execution_count": 31,
   "metadata": {},
   "outputs": [],
   "source": [
    "base_dir = os.path.join('.', 'base_kernel')\n",
    "os.makedirs(base_dir, exist_ok = True)"
   ]
  },
  {
   "cell_type": "code",
   "execution_count": 32,
   "metadata": {},
   "outputs": [
    {
     "name": "stdout",
     "output_type": "stream",
     "text": [
      "Source code downloaded to ./base_kernel/hot-dog-not-hot-dog-gpu.ipynb\r\n"
     ]
    }
   ],
   "source": [
    "if not os.path.exists(os.path.join(base_dir, 'hot-dog-not-hot-dog-gpu.ipynb')):\n",
    "    !kaggle kernels pull -k kmader/hot-dog-not-hot-dog-gpu -p {base_dir}"
   ]
  },
  {
   "cell_type": "code",
   "execution_count": 33,
   "metadata": {},
   "outputs": [],
   "source": [
    "import keras\n",
    "model_list = [('vgg16', 'VGG16'),\n",
    "              ('inception_v3', 'InceptionV3'),\n",
    "              ('xception', 'Xception')\n",
    "             ]\n",
    "make_model = lambda mod_folder, mod_name: 'from keras.applications.{0} import {1} as PTModel, preprocess_input'.format(mod_folder, mod_name)\n",
    "search_text = '##### INSERT_MODEL_IMPORT #######'"
   ]
  },
  {
   "cell_type": "code",
   "execution_count": 34,
   "metadata": {},
   "outputs": [
    {
     "data": {
      "text/plain": [
       "{'id': 'kmader/test_001',\n",
       " 'title': 'Notebook1',\n",
       " 'code_file': 'hot-dog-not-hot-dog-gpu.ipynb',\n",
       " 'language': 'python',\n",
       " 'kernel_type': 'notebook',\n",
       " 'is_private': True,\n",
       " 'enable_gpu': True,\n",
       " 'enable_internet': False,\n",
       " 'keywords': [],\n",
       " 'dataset_sources': ['gaborfodor/keras-pretrained-models', 'kmader/food41'],\n",
       " 'kernel_sources': [],\n",
       " 'competition_sources': []}"
      ]
     },
     "execution_count": 34,
     "metadata": {},
     "output_type": "execute_result"
    }
   ],
   "source": [
    "notebook_meta_template(USER_ID, 'Notebook1', 'test_001')"
   ]
  },
  {
   "cell_type": "code",
   "execution_count": null,
   "metadata": {},
   "outputs": [],
   "source": []
  }
 ],
 "metadata": {
  "kernelspec": {
   "display_name": "Python 3",
   "language": "python",
   "name": "python3"
  },
  "language_info": {
   "codemirror_mode": {
    "name": "ipython",
    "version": 3
   },
   "file_extension": ".py",
   "mimetype": "text/x-python",
   "name": "python",
   "nbconvert_exporter": "python",
   "pygments_lexer": "ipython3",
   "version": "3.6.5"
  }
 },
 "nbformat": 4,
 "nbformat_minor": 2
}
