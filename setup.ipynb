{
 "cells": [
  {
   "cell_type": "code",
   "execution_count": 1,
   "metadata": {},
   "outputs": [],
   "source": [
    "USER_ID = 'kevinbot'\n",
    "USER_SECRET = ''"
   ]
  },
  {
   "cell_type": "code",
   "execution_count": 2,
   "metadata": {},
   "outputs": [],
   "source": [
    "import os, json, nbformat\n",
    "os.makedirs('.kaggle', exist_ok = True)\n",
    "with open(os.path.join('.kaggle', 'kaggle.json'), 'w') as f:\n",
    "    json.dump({'username': USER_ID, 'key': USER_SECRET}, f)\n",
    "!chmod 600 .kaggle/kaggle.json"
   ]
  },
  {
   "cell_type": "code",
   "execution_count": 3,
   "metadata": {},
   "outputs": [],
   "source": [
    "notebook_meta_template = lambda user_id, title, file_id, nb_path: {'id': f'{user_id}/{file_id}',\n",
    " 'title': f'{title}',\n",
    " 'code_file': nb_path,\n",
    " 'language': 'python',\n",
    " 'kernel_type': 'notebook',\n",
    " 'is_private': True,\n",
    " 'enable_gpu': True,\n",
    " 'enable_internet': False,\n",
    " 'keywords': [],\n",
    " 'dataset_sources': ['gaborfodor/keras-pretrained-models', 'kmader/food41'],\n",
    " 'kernel_sources': [],\n",
    " 'competition_sources': []}"
   ]
  },
  {
   "cell_type": "code",
   "execution_count": 4,
   "metadata": {},
   "outputs": [],
   "source": [
    "base_dir = os.path.join('.', 'base_kernel')\n",
    "os.makedirs(base_dir, exist_ok = True)"
   ]
  },
  {
   "cell_type": "code",
   "execution_count": 5,
   "metadata": {},
   "outputs": [],
   "source": [
    "kernel_path = os.path.join(base_dir ,'hot-dog-not-hot-dog-gpu.ipynb')\n",
    "if not os.path.exists(kernel_path):\n",
    "    !kaggle kernels pull -k kmader/hot-dog-not-hot-dog-gpu -p {base_dir}"
   ]
  },
  {
   "cell_type": "code",
   "execution_count": 6,
   "metadata": {},
   "outputs": [
    {
     "name": "stderr",
     "output_type": "stream",
     "text": [
      "Using TensorFlow backend.\n"
     ]
    }
   ],
   "source": [
    "import keras\n",
    "model_list = [('vgg16', 'VGG16'),\n",
    "              ('inception_v3', 'InceptionV3'),\n",
    "              ('xception', 'Xception')\n",
    "             ]\n",
    "make_model = lambda mod_folder, mod_name: 'from keras.applications.{0} import {1} as PTModel, preprocess_input'.format(mod_folder, mod_name)\n",
    "search_text = '##### INSERT_MODEL_IMPORT #######'"
   ]
  },
  {
   "cell_type": "code",
   "execution_count": null,
   "metadata": {},
   "outputs": [],
   "source": [
    "launched_kernels_list = []\n",
    "cur_nb = nbformat.read(kernel_path, as_version = 4)\n",
    "for i, (mod_folder, mod_name) in enumerate(model_list):\n",
    "    out_name = 'test_{:04d}'.format(i)\n",
    "    out_kernel_path = '{}.ipynb'.format(out_name)\n",
    "    with open(kernel_path, 'r') as fi:\n",
    "        all_lines = fi.readlines()\n",
    "        with open(out_kernel_path, 'w') as fo:\n",
    "            new_lines = [c_line.replace(search_text, \n",
    "                    make_model(mod_folder, mod_name)) for c_line in all_lines]\n",
    "            fo.writelines(new_lines)\n",
    "    with open('kernel-metadata.json', 'w') as f:\n",
    "        meta_dict = notebook_meta_template(USER_ID, \n",
    "                           out_name, \n",
    "                           out_name, \n",
    "                           out_kernel_path)\n",
    "        json.dump(meta_dict, f)\n",
    "    out_str = !kaggle kernels push -p .\n",
    "    launched_kernels_list += [out_str] \n",
    "    break"
   ]
  },
  {
   "cell_type": "code",
   "execution_count": 28,
   "metadata": {},
   "outputs": [
    {
     "name": "stdout",
     "output_type": "stream",
     "text": [
      "kevinbot/test-0000 has status \"running\"\r\n"
     ]
    }
   ],
   "source": [
    "!kaggle kernels status -k kevinbot/test-0000"
   ]
  }
 ],
 "metadata": {
  "kernelspec": {
   "display_name": "Python 3",
   "language": "python",
   "name": "python3"
  },
  "language_info": {
   "codemirror_mode": {
    "name": "ipython",
    "version": 3
   },
   "file_extension": ".py",
   "mimetype": "text/x-python",
   "name": "python",
   "nbconvert_exporter": "python",
   "pygments_lexer": "ipython3",
   "version": "3.6.5"
  }
 },
 "nbformat": 4,
 "nbformat_minor": 2
}
