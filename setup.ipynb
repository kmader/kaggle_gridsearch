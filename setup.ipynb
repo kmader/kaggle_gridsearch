{
 "cells": [
  {
   "cell_type": "markdown",
   "metadata": {
    "_uuid": "f494e83233854f9ff4f4799d1b685d024a19643e"
   },
   "source": [
    "# Overview\n",
    "The notebook shows how to take a template kernel and make a bunch of parallel runs with slightly different hyper-parameters. In order for a parameter to be identified as a _hyperparameter_ it needs to be written in the code field in the following form\n",
    "```py\n",
    "LEARNING_RATE=0.1\n",
    "EPOCHS=5\n",
    "MODEL='VGG16'\n",
    "```\n",
    "The notebook shows how we can automatically extract those parameters, create a series of runs based on them and submit all of the runs to Kaggle as Kernels"
   ]
  },
  {
   "cell_type": "markdown",
   "metadata": {
    "_uuid": "607069cc6f03baa3ccf1034120785b6956182818"
   },
   "source": [
    "# Setup the Environment\n",
    "Here we setup the variables for our kaggle account\n",
    "- you need a USER_ID and USER_SECRET which you can get by following the instructions here: https://github.com/Kaggle/kaggle-api#api-credentials\n",
    "- the credentials below have already been invalidated and so you cannot use them"
   ]
  },
  {
   "cell_type": "code",
   "execution_count": 1,
   "metadata": {
    "_uuid": "dc4536c00b38dd297fbac090ae213607f0119589"
   },
   "outputs": [],
   "source": [
    "USER_ID = 'kevinbot'\n",
    "USER_SECRET = ''\n",
    "DRY_RUN = True # should the actual kernels be run"
   ]
  },
  {
   "cell_type": "code",
   "execution_count": 2,
   "metadata": {
    "_uuid": "b8ad363dc1f7f588c40d93e26a00c1e89d983fe8"
   },
   "outputs": [],
   "source": [
    "import os, json, nbformat, pandas as pd\n",
    "import ast\n",
    "from itertools import product\n",
    "import copy\n",
    "from nbformat import v4 as nbf\n",
    "import json\n",
    "from time import time, sleep\n",
    "import hashlib"
   ]
  },
  {
   "cell_type": "code",
   "execution_count": 3,
   "metadata": {
    "_uuid": "f016f49fa634cfe91e01f136c582d24419e51ac8"
   },
   "outputs": [],
   "source": [
    "kaggle_conf_dir = os.path.join(os.path.expandvars('$HOME'), '.kaggle')\n",
    "os.makedirs(kaggle_conf_dir, exist_ok = True)\n",
    "with open(os.path.join(kaggle_conf_dir, 'kaggle.json'), 'w') as f:\n",
    "    json.dump({'username': USER_ID, 'key': USER_SECRET}, f)\n",
    "!chmod 600 {kaggle_conf_dir}/kaggle.json"
   ]
  },
  {
   "cell_type": "markdown",
   "metadata": {
    "_uuid": "1f84ee0065b1867912148f106756bcd3d0e0f287"
   },
   "source": [
    "# Download a Template Notebook/Kernel\n",
    "Here we use Use the \"Hot Dog not Hot Dog\" Kernel as a Basis. In order to be a good kernel, the file should have a number of simple lines like the ones below that can be changed through the script below\n",
    "```py\n",
    "LEARNING_RATE=0.1\n",
    "EPOCHS=5\n",
    "MODEL='VGG16'\n",
    "```\n",
    "We also download the metadata to use as a template"
   ]
  },
  {
   "cell_type": "code",
   "execution_count": 17,
   "metadata": {
    "_cell_guid": "79c7e3d0-c299-4dcb-8224-4455121ee9b0",
    "_uuid": "d629ff2d2480ee46fbb7e2d37f6b5fab8052498a"
   },
   "outputs": [
    {
     "name": "stdout",
     "output_type": "stream",
     "text": [
      "Warning: Looks like you're using an outdated API Version, please consider updating (server 1.4.2 / client 1.4.0)\r\n",
      "Source code and metadata downloaded to base_kernel\r\n"
     ]
    },
    {
     "data": {
      "text/plain": [
       "{'id': 'kmader/hot-dog-not-hot-dog-gpu',\n",
       " 'title': 'Hot Dog/Not Hot Dog (GPU)',\n",
       " 'code_file': 'hot-dog-not-hot-dog-gpu.ipynb',\n",
       " 'language': 'python',\n",
       " 'kernel_type': 'notebook',\n",
       " 'is_private': False,\n",
       " 'enable_gpu': True,\n",
       " 'enable_internet': False,\n",
       " 'keywords': [],\n",
       " 'dataset_sources': ['gaborfodor/keras-pretrained-models', 'kmader/food41'],\n",
       " 'kernel_sources': [],\n",
       " 'competition_sources': []}"
      ]
     },
     "execution_count": 17,
     "metadata": {},
     "output_type": "execute_result"
    }
   ],
   "source": [
    "base_dir = 'base_kernel'\n",
    "kernel_path = os.path.join(base_dir, 'hot-dog-not-hot-dog-gpu.ipynb')\n",
    "meta_path = os.path.join(base_dir, 'kernel-metadata.json')\n",
    "if not (os.path.exists(kernel_path) and os.path.exists(meta_path)):\n",
    "    !kaggle kernels pull -k kmader/hot-dog-not-hot-dog-gpu -p {base_dir} -m\n",
    "with open(meta_path, 'r') as f:\n",
    "    base_metadata = json.load(f)\n",
    "base_metadata"
   ]
  },
  {
   "cell_type": "markdown",
   "metadata": {
    "_uuid": "03e7b11a19bb15985fd86a3cc3608dce398cb5c1"
   },
   "source": [
    "# Notebook Metadata\n",
    "Here we make the notebook metadata template for submitting new notebooks. Basically it has what datasets we want to include, if the notebook should be private, if we want GPU enabled and so forth"
   ]
  },
  {
   "cell_type": "code",
   "execution_count": 18,
   "metadata": {
    "_uuid": "6f1a99c36f7f821c3d8f64bab9d7c79b6c08b533"
   },
   "outputs": [],
   "source": [
    "def notebook_meta_template(user_id, title, file_id, nb_path): \n",
    "    \"\"\"\n",
    "     'is_private': False, # probably better to make them private but for the demo notebook it is useful to see them\n",
    "     'enable_gpu': True,\n",
    "     'enable_internet': False,\n",
    "    \"\"\"\n",
    "    c_dict = copy.deepcopy(base_metadata)\n",
    "    kv_list = [('id', f'{user_id}/{file_id}')]\n",
    "    kv_list += [('title', f'{title}')]\n",
    "    kv_list += [('code_file', nb_path)]\n",
    "    kv_list += [('keywords', ['hyperparameter-optimization'])]\n",
    "    \n",
    "    for k, v in kv_list:\n",
    "        c_dict[k] = v\n",
    "    return c_dict"
   ]
  },
  {
   "cell_type": "markdown",
   "metadata": {
    "_uuid": "2b08ca6dd5e9ea969612fcdee5d9a217307f8c19"
   },
   "source": [
    "## Parse the Notebook\n",
    "Here we parse the notebook looking for parameters to play with, we use pandas to show a bit what is inside."
   ]
  },
  {
   "cell_type": "code",
   "execution_count": 6,
   "metadata": {
    "_uuid": "2e68f672eef48416d942849b90eec6c5b419979f"
   },
   "outputs": [
    {
     "data": {
      "text/html": [
       "<div>\n",
       "<style scoped>\n",
       "    .dataframe tbody tr th:only-of-type {\n",
       "        vertical-align: middle;\n",
       "    }\n",
       "\n",
       "    .dataframe tbody tr th {\n",
       "        vertical-align: top;\n",
       "    }\n",
       "\n",
       "    .dataframe thead th {\n",
       "        text-align: right;\n",
       "    }\n",
       "</style>\n",
       "<table border=\"1\" class=\"dataframe\">\n",
       "  <thead>\n",
       "    <tr style=\"text-align: right;\">\n",
       "      <th></th>\n",
       "      <th>cell_type</th>\n",
       "      <th>execution_count</th>\n",
       "      <th>metadata</th>\n",
       "      <th>outputs</th>\n",
       "      <th>source</th>\n",
       "    </tr>\n",
       "  </thead>\n",
       "  <tbody>\n",
       "    <tr>\n",
       "      <th>2</th>\n",
       "      <td>code</td>\n",
       "      <td>1.0</td>\n",
       "      <td>{'collapsed': True, '_cell_guid': 'e94de3e7-de...</td>\n",
       "      <td>[]</td>\n",
       "      <td>!mkdir ~/.keras\\n!mkdir ~/.keras/models\\n!cp ....</td>\n",
       "    </tr>\n",
       "    <tr>\n",
       "      <th>3</th>\n",
       "      <td>code</td>\n",
       "      <td>2.0</td>\n",
       "      <td>{'collapsed': True, '_cell_guid': 'c3cc4285-bf...</td>\n",
       "      <td>[]</td>\n",
       "      <td>%matplotlib inline\\nimport numpy as np # linea...</td>\n",
       "    </tr>\n",
       "    <tr>\n",
       "      <th>5</th>\n",
       "      <td>code</td>\n",
       "      <td>3.0</td>\n",
       "      <td>{'_cell_guid': '1d79959c-4921-48f9-a660-f1d550...</td>\n",
       "      <td>[]</td>\n",
       "      <td>from sklearn.preprocessing import LabelEncoder...</td>\n",
       "    </tr>\n",
       "    <tr>\n",
       "      <th>7</th>\n",
       "      <td>code</td>\n",
       "      <td>4.0</td>\n",
       "      <td>{'_cell_guid': '5c8bd288-8261-4cbe-a954-e62ac7...</td>\n",
       "      <td>[]</td>\n",
       "      <td>all_paths_df['source'].hist(figsize = (20, 7),...</td>\n",
       "    </tr>\n",
       "    <tr>\n",
       "      <th>9</th>\n",
       "      <td>code</td>\n",
       "      <td>5.0</td>\n",
       "      <td>{'_cell_guid': '1192c6b3-a940-4fa0-a498-d7e0d4...</td>\n",
       "      <td>[]</td>\n",
       "      <td>from sklearn.model_selection import train_test...</td>\n",
       "    </tr>\n",
       "    <tr>\n",
       "      <th>11</th>\n",
       "      <td>code</td>\n",
       "      <td>46.0</td>\n",
       "      <td>{'_cell_guid': '21b5d30f-c645-41ad-85bc-4b51d2...</td>\n",
       "      <td>[]</td>\n",
       "      <td>train_df = raw_train_df.groupby(['source_id'])...</td>\n",
       "    </tr>\n",
       "    <tr>\n",
       "      <th>12</th>\n",
       "      <td>code</td>\n",
       "      <td>7.0</td>\n",
       "      <td>{'_cell_guid': '9954bfda-29bd-4c4d-b526-0a972b...</td>\n",
       "      <td>[]</td>\n",
       "      <td>from keras.preprocessing.image import ImageDat...</td>\n",
       "    </tr>\n",
       "    <tr>\n",
       "      <th>13</th>\n",
       "      <td>code</td>\n",
       "      <td>8.0</td>\n",
       "      <td>{'collapsed': True, '_cell_guid': 'b5767f42-da...</td>\n",
       "      <td>[]</td>\n",
       "      <td>def flow_from_dataframe(img_data_gen, in_df, p...</td>\n",
       "    </tr>\n",
       "    <tr>\n",
       "      <th>14</th>\n",
       "      <td>code</td>\n",
       "      <td>47.0</td>\n",
       "      <td>{'_cell_guid': '810bd229-fec9-43c4-b3bd-afd62e...</td>\n",
       "      <td>[]</td>\n",
       "      <td>train_gen = flow_from_dataframe(core_idg, trai...</td>\n",
       "    </tr>\n",
       "    <tr>\n",
       "      <th>15</th>\n",
       "      <td>code</td>\n",
       "      <td>10.0</td>\n",
       "      <td>{'_cell_guid': '2d62234f-aeb0-4eba-8a38-d713d8...</td>\n",
       "      <td>[]</td>\n",
       "      <td>t_x, t_y = next(train_gen)\\nfig, m_axs = plt.s...</td>\n",
       "    </tr>\n",
       "    <tr>\n",
       "      <th>17</th>\n",
       "      <td>code</td>\n",
       "      <td>11.0</td>\n",
       "      <td>{'_cell_guid': 'a4728bc5-c940-4dea-9e1f-e9fbcb...</td>\n",
       "      <td>[]</td>\n",
       "      <td># clean up resources\\nimport gc\\ngc.enable()\\n...</td>\n",
       "    </tr>\n",
       "    <tr>\n",
       "      <th>19</th>\n",
       "      <td>code</td>\n",
       "      <td>12.0</td>\n",
       "      <td>{'_cell_guid': 'eeb36110-0cde-4450-a43c-b8f707...</td>\n",
       "      <td>[]</td>\n",
       "      <td>from keras.layers import GlobalAveragePooling2...</td>\n",
       "    </tr>\n",
       "    <tr>\n",
       "      <th>20</th>\n",
       "      <td>code</td>\n",
       "      <td>13.0</td>\n",
       "      <td>{'_cell_guid': '17803ae1-bed8-41a4-9a2c-e66287...</td>\n",
       "      <td>[]</td>\n",
       "      <td>from keras.callbacks import ModelCheckpoint, L...</td>\n",
       "    </tr>\n",
       "    <tr>\n",
       "      <th>21</th>\n",
       "      <td>code</td>\n",
       "      <td>NaN</td>\n",
       "      <td>{'_cell_guid': '58a75586-442b-4804-84a6-d63d5a...</td>\n",
       "      <td>[]</td>\n",
       "      <td>train_gen.batch_size = 32\\nattn_model.fit_gene...</td>\n",
       "    </tr>\n",
       "    <tr>\n",
       "      <th>22</th>\n",
       "      <td>code</td>\n",
       "      <td>NaN</td>\n",
       "      <td>{'collapsed': True, '_cell_guid': '4d0c45b0-bb...</td>\n",
       "      <td>[]</td>\n",
       "      <td># load the best version of the model\\nattn_mod...</td>\n",
       "    </tr>\n",
       "    <tr>\n",
       "      <th>23</th>\n",
       "      <td>code</td>\n",
       "      <td>NaN</td>\n",
       "      <td>{'collapsed': True, '_cell_guid': '9f038f41-05...</td>\n",
       "      <td>[]</td>\n",
       "      <td>!rm -rf ~/.keras # clean up the model / make s...</td>\n",
       "    </tr>\n",
       "    <tr>\n",
       "      <th>25</th>\n",
       "      <td>code</td>\n",
       "      <td>15.0</td>\n",
       "      <td>{'_cell_guid': 'd0edaf00-4b7c-4f65-af0b-e5a03b...</td>\n",
       "      <td>[]</td>\n",
       "      <td>pred_Y = attn_model.predict(test_X, \\n        ...</td>\n",
       "    </tr>\n",
       "    <tr>\n",
       "      <th>26</th>\n",
       "      <td>code</td>\n",
       "      <td>16.0</td>\n",
       "      <td>{'_cell_guid': '15189df2-3fed-495e-9661-97bb2b...</td>\n",
       "      <td>[]</td>\n",
       "      <td>from sklearn.metrics import classification_rep...</td>\n",
       "    </tr>\n",
       "    <tr>\n",
       "      <th>27</th>\n",
       "      <td>code</td>\n",
       "      <td>35.0</td>\n",
       "      <td>{'_uuid': '0fd5f7335bf5f5ceb2177e852f038337c92...</td>\n",
       "      <td>[]</td>\n",
       "      <td>from sklearn.metrics import roc_curve, roc_auc...</td>\n",
       "    </tr>\n",
       "    <tr>\n",
       "      <th>28</th>\n",
       "      <td>code</td>\n",
       "      <td>NaN</td>\n",
       "      <td>{'collapsed': True, '_cell_guid': '91a6cac6-ce...</td>\n",
       "      <td>[]</td>\n",
       "      <td>attn_model.save('full_pred_model.h5')</td>\n",
       "    </tr>\n",
       "    <tr>\n",
       "      <th>30</th>\n",
       "      <td>code</td>\n",
       "      <td>39.0</td>\n",
       "      <td>{'_uuid': '1d471eae51200b984ecfd8d8aaa1e4ddc9f...</td>\n",
       "      <td>[]</td>\n",
       "      <td>class_df = pd.DataFrame(dict(label = np.argmax...</td>\n",
       "    </tr>\n",
       "    <tr>\n",
       "      <th>31</th>\n",
       "      <td>code</td>\n",
       "      <td>43.0</td>\n",
       "      <td>{'_uuid': 'b971504c3d812d981c17f9de4af41437c7c...</td>\n",
       "      <td>[]</td>\n",
       "      <td>fig, m_axs = plt.subplots(2, 5, figsize = (20,...</td>\n",
       "    </tr>\n",
       "    <tr>\n",
       "      <th>32</th>\n",
       "      <td>code</td>\n",
       "      <td>NaN</td>\n",
       "      <td>{'collapsed': True, '_uuid': 'b06350db3b728eb5...</td>\n",
       "      <td>[]</td>\n",
       "      <td></td>\n",
       "    </tr>\n",
       "  </tbody>\n",
       "</table>\n",
       "</div>"
      ],
      "text/plain": [
       "   cell_type  execution_count  \\\n",
       "2       code              1.0   \n",
       "3       code              2.0   \n",
       "5       code              3.0   \n",
       "7       code              4.0   \n",
       "9       code              5.0   \n",
       "11      code             46.0   \n",
       "12      code              7.0   \n",
       "13      code              8.0   \n",
       "14      code             47.0   \n",
       "15      code             10.0   \n",
       "17      code             11.0   \n",
       "19      code             12.0   \n",
       "20      code             13.0   \n",
       "21      code              NaN   \n",
       "22      code              NaN   \n",
       "23      code              NaN   \n",
       "25      code             15.0   \n",
       "26      code             16.0   \n",
       "27      code             35.0   \n",
       "28      code              NaN   \n",
       "30      code             39.0   \n",
       "31      code             43.0   \n",
       "32      code              NaN   \n",
       "\n",
       "                                             metadata outputs  \\\n",
       "2   {'collapsed': True, '_cell_guid': 'e94de3e7-de...      []   \n",
       "3   {'collapsed': True, '_cell_guid': 'c3cc4285-bf...      []   \n",
       "5   {'_cell_guid': '1d79959c-4921-48f9-a660-f1d550...      []   \n",
       "7   {'_cell_guid': '5c8bd288-8261-4cbe-a954-e62ac7...      []   \n",
       "9   {'_cell_guid': '1192c6b3-a940-4fa0-a498-d7e0d4...      []   \n",
       "11  {'_cell_guid': '21b5d30f-c645-41ad-85bc-4b51d2...      []   \n",
       "12  {'_cell_guid': '9954bfda-29bd-4c4d-b526-0a972b...      []   \n",
       "13  {'collapsed': True, '_cell_guid': 'b5767f42-da...      []   \n",
       "14  {'_cell_guid': '810bd229-fec9-43c4-b3bd-afd62e...      []   \n",
       "15  {'_cell_guid': '2d62234f-aeb0-4eba-8a38-d713d8...      []   \n",
       "17  {'_cell_guid': 'a4728bc5-c940-4dea-9e1f-e9fbcb...      []   \n",
       "19  {'_cell_guid': 'eeb36110-0cde-4450-a43c-b8f707...      []   \n",
       "20  {'_cell_guid': '17803ae1-bed8-41a4-9a2c-e66287...      []   \n",
       "21  {'_cell_guid': '58a75586-442b-4804-84a6-d63d5a...      []   \n",
       "22  {'collapsed': True, '_cell_guid': '4d0c45b0-bb...      []   \n",
       "23  {'collapsed': True, '_cell_guid': '9f038f41-05...      []   \n",
       "25  {'_cell_guid': 'd0edaf00-4b7c-4f65-af0b-e5a03b...      []   \n",
       "26  {'_cell_guid': '15189df2-3fed-495e-9661-97bb2b...      []   \n",
       "27  {'_uuid': '0fd5f7335bf5f5ceb2177e852f038337c92...      []   \n",
       "28  {'collapsed': True, '_cell_guid': '91a6cac6-ce...      []   \n",
       "30  {'_uuid': '1d471eae51200b984ecfd8d8aaa1e4ddc9f...      []   \n",
       "31  {'_uuid': 'b971504c3d812d981c17f9de4af41437c7c...      []   \n",
       "32  {'collapsed': True, '_uuid': 'b06350db3b728eb5...      []   \n",
       "\n",
       "                                               source  \n",
       "2   !mkdir ~/.keras\\n!mkdir ~/.keras/models\\n!cp ....  \n",
       "3   %matplotlib inline\\nimport numpy as np # linea...  \n",
       "5   from sklearn.preprocessing import LabelEncoder...  \n",
       "7   all_paths_df['source'].hist(figsize = (20, 7),...  \n",
       "9   from sklearn.model_selection import train_test...  \n",
       "11  train_df = raw_train_df.groupby(['source_id'])...  \n",
       "12  from keras.preprocessing.image import ImageDat...  \n",
       "13  def flow_from_dataframe(img_data_gen, in_df, p...  \n",
       "14  train_gen = flow_from_dataframe(core_idg, trai...  \n",
       "15  t_x, t_y = next(train_gen)\\nfig, m_axs = plt.s...  \n",
       "17  # clean up resources\\nimport gc\\ngc.enable()\\n...  \n",
       "19  from keras.layers import GlobalAveragePooling2...  \n",
       "20  from keras.callbacks import ModelCheckpoint, L...  \n",
       "21  train_gen.batch_size = 32\\nattn_model.fit_gene...  \n",
       "22  # load the best version of the model\\nattn_mod...  \n",
       "23  !rm -rf ~/.keras # clean up the model / make s...  \n",
       "25  pred_Y = attn_model.predict(test_X, \\n        ...  \n",
       "26  from sklearn.metrics import classification_rep...  \n",
       "27  from sklearn.metrics import roc_curve, roc_auc...  \n",
       "28              attn_model.save('full_pred_model.h5')  \n",
       "30  class_df = pd.DataFrame(dict(label = np.argmax...  \n",
       "31  fig, m_axs = plt.subplots(2, 5, figsize = (20,...  \n",
       "32                                                     "
      ]
     },
     "execution_count": 6,
     "metadata": {},
     "output_type": "execute_result"
    }
   ],
   "source": [
    "kernel_data = nbformat.read(kernel_path, as_version=4)\n",
    "cell_df = pd.DataFrame(kernel_data['cells'])\n",
    "cell_df.query('cell_type==\"code\"')"
   ]
  },
  {
   "cell_type": "markdown",
   "metadata": {
    "_uuid": "aa6c40457b74b39a4cfb5a50bfd6de0f4c2e720d"
   },
   "source": [
    "## Use Abstract Syntax Tree\n",
    "We can use the abstract syntax tree to find relevant code that we can change to run notebooks with new settings"
   ]
  },
  {
   "cell_type": "code",
   "execution_count": 7,
   "metadata": {
    "_uuid": "a7f4890a9dd280fd9b2e2cda4d6e6958064b6cbd"
   },
   "outputs": [
    {
     "data": {
      "text/html": [
       "<div>\n",
       "<style scoped>\n",
       "    .dataframe tbody tr th:only-of-type {\n",
       "        vertical-align: middle;\n",
       "    }\n",
       "\n",
       "    .dataframe tbody tr th {\n",
       "        vertical-align: top;\n",
       "    }\n",
       "\n",
       "    .dataframe thead th {\n",
       "        text-align: right;\n",
       "    }\n",
       "</style>\n",
       "<table border=\"1\" class=\"dataframe\">\n",
       "  <thead>\n",
       "    <tr style=\"text-align: right;\">\n",
       "      <th></th>\n",
       "      <th>cell_id</th>\n",
       "      <th>line_code</th>\n",
       "      <th>line_no</th>\n",
       "      <th>target</th>\n",
       "      <th>line_replacement</th>\n",
       "    </tr>\n",
       "  </thead>\n",
       "  <tbody>\n",
       "    <tr>\n",
       "      <th>0</th>\n",
       "      <td>12</td>\n",
       "      <td>IMG_SIZE = (299, 299) # slightly smaller than ...</td>\n",
       "      <td>7</td>\n",
       "      <td>IMG_SIZE</td>\n",
       "      <td>IMG_SIZE = (299, 299) # slightly smaller than ...</td>\n",
       "    </tr>\n",
       "    <tr>\n",
       "      <th>1</th>\n",
       "      <td>19</td>\n",
       "      <td>pt_depth = base_pretrained_model.get_output_sh...</td>\n",
       "      <td>8</td>\n",
       "      <td>pt_depth</td>\n",
       "      <td>pt_depth = base_pretrained_model.get_output_sh...</td>\n",
       "    </tr>\n",
       "    <tr>\n",
       "      <th>2</th>\n",
       "      <td>19</td>\n",
       "      <td>use_attention = False</td>\n",
       "      <td>29</td>\n",
       "      <td>use_attention</td>\n",
       "      <td>use_attention = False</td>\n",
       "    </tr>\n",
       "    <tr>\n",
       "      <th>3</th>\n",
       "      <td>20</td>\n",
       "      <td>callbacks_list = [checkpoint, early, reduceLRO...</td>\n",
       "      <td>16</td>\n",
       "      <td>callbacks_list</td>\n",
       "      <td>callbacks_list = [checkpoint, early, reduceLRO...</td>\n",
       "    </tr>\n",
       "  </tbody>\n",
       "</table>\n",
       "</div>"
      ],
      "text/plain": [
       "   cell_id                                          line_code  line_no  \\\n",
       "0       12  IMG_SIZE = (299, 299) # slightly smaller than ...        7   \n",
       "1       19  pt_depth = base_pretrained_model.get_output_sh...        8   \n",
       "2       19                              use_attention = False       29   \n",
       "3       20  callbacks_list = [checkpoint, early, reduceLRO...       16   \n",
       "\n",
       "           target                                   line_replacement  \n",
       "0        IMG_SIZE  IMG_SIZE = (299, 299) # slightly smaller than ...  \n",
       "1        pt_depth  pt_depth = base_pretrained_model.get_output_sh...  \n",
       "2   use_attention                              use_attention = False  \n",
       "3  callbacks_list  callbacks_list = [checkpoint, early, reduceLRO...  "
      ]
     },
     "execution_count": 7,
     "metadata": {},
     "output_type": "execute_result"
    }
   ],
   "source": [
    "all_asgn = []\n",
    "for cell_idx, c_cell in enumerate(kernel_data['cells']):\n",
    "    if c_cell['cell_type']=='code':\n",
    "        c_src = c_cell['source']\n",
    "        # remove jupyter things\n",
    "        c_src = '\\n'.join(['' if (c_block.strip().startswith('!') or \n",
    "                                  c_block.strip().startswith('%')) else\n",
    "                           c_block\n",
    "                           for c_block in c_src.split('\\n')])\n",
    "        \n",
    "        for c_statement in ast.parse(c_src).body:\n",
    "            if isinstance(c_statement, ast.Assign):\n",
    "                # only keep named arguments that are not assigned from function calls\n",
    "                if all([isinstance(c_targ, ast.Name) \n",
    "                        for c_targ in c_statement.targets]) and not (isinstance(c_statement.value, ast.Call) or \n",
    "                                                                     isinstance(c_statement.value, ast.Lambda)) and len(c_statement.targets)==1:\n",
    "                    \n",
    "                    all_asgn += [{'cell_id': cell_idx,\n",
    "                                  'line_no': c_statement.lineno,\n",
    "                                  'line_code': c_src.split('\\n')[c_statement.lineno-1],\n",
    "                                  #'value': c_statement.value,\n",
    "                                  'target':  c_statement.targets[0].id}\n",
    "                                  ]\n",
    "assignment_df = pd.DataFrame(all_asgn)\n",
    "assignment_df['line_replacement'] = assignment_df['line_code'] \n",
    "assignment_df"
   ]
  },
  {
   "cell_type": "markdown",
   "metadata": {
    "_uuid": "ccc9012c83afb7265832a94896c9bd10aac078a2"
   },
   "source": [
    "# Make our batches\n",
    "Here we can make the batches of code to run. Each batch has a parameter data.frame associated it with that we write into the first block in the notebook.\n",
    "\n",
    "We use the product function to perform a grid search over all the possibilities"
   ]
  },
  {
   "cell_type": "code",
   "execution_count": 8,
   "metadata": {
    "_uuid": "86c228fd90d3938241328389928f35eb9f459eb5"
   },
   "outputs": [
    {
     "name": "stdout",
     "output_type": "stream",
     "text": [
      "{'IMG_SIZE': (139, 139), 'use_attention': False}\n",
      "{'IMG_SIZE': (139, 139), 'use_attention': True}\n",
      "{'IMG_SIZE': (299, 299), 'use_attention': False}\n",
      "{'IMG_SIZE': (299, 299), 'use_attention': True}\n",
      "{'IMG_SIZE': (384, 384), 'use_attention': False}\n",
      "{'IMG_SIZE': (384, 384), 'use_attention': True}\n",
      "{'IMG_SIZE': (512, 512), 'use_attention': False}\n",
      "{'IMG_SIZE': (512, 512), 'use_attention': True}\n"
     ]
    }
   ],
   "source": [
    "batch_dict = {'IMG_SIZE': [(139, 139), (299, 299), (384, 384), (512, 512)],\n",
    "             'use_attention': [False, True]}\n",
    "batch_keys = list(batch_dict.keys())\n",
    "batches = []\n",
    "for c_vec in product(*[batch_dict[k] \n",
    "                       for k in batch_keys]):\n",
    "    cur_df = assignment_df.copy()\n",
    "    sub_lines = dict(zip(batch_keys, c_vec))\n",
    "    print(sub_lines)\n",
    "    for c_key, c_value in sub_lines.items():\n",
    "        cur_df.loc[cur_df['target']==c_key, 'line_replacement'] = cur_df[cur_df['target']==c_key]['line_code'].map(lambda x: '{}= {}'.format(\n",
    "            x.split('=')[0],\n",
    "            c_value))\n",
    "    batches+=[(sub_lines, cur_df)]"
   ]
  },
  {
   "cell_type": "markdown",
   "metadata": {
    "_uuid": "e60f5e143ff2dbdece27bd70fe48e81b4358d6b1"
   },
   "source": [
    "## Replace the lines in the notebook\n",
    "The code here surgically replaces just the necessary lines in the notebook and leaves (hopefully) everything else exactly the way it is"
   ]
  },
  {
   "cell_type": "code",
   "execution_count": 9,
   "metadata": {
    "_uuid": "c57c06504ae0b91eda163dfbfba3de45271b371f"
   },
   "outputs": [],
   "source": [
    "def replace_line(in_code, in_line_idx, in_replacement):\n",
    "    return '\\n'.join([j if i!=in_line_idx else in_replacement for i, j in enumerate(in_code.split('\\n'), 1)])\n",
    "def apply_replacement_df(in_nb, rep_df):\n",
    "    cur_nb = copy.deepcopy(in_nb)\n",
    "    for _, c_row in rep_df.iterrows():\n",
    "        if c_row['line_code']!=c_row['line_replacement']:\n",
    "            # lines to fix\n",
    "            cell_idx = c_row['cell_id']\n",
    "            cur_nb['cells'][cell_idx]['source'] = replace_line(cur_nb['cells'][cell_idx]['source'], c_row['line_no'], c_row['line_replacement'])\n",
    "    return cur_nb"
   ]
  },
  {
   "cell_type": "markdown",
   "metadata": {
    "_uuid": "611e6cbe4ecbb9284716d4159f1722cd2fad2e79"
   },
   "source": [
    "# Add the relevant information\n",
    "So we want to add a first field with all the info about the current run so we can harvest it later"
   ]
  },
  {
   "cell_type": "code",
   "execution_count": 10,
   "metadata": {
    "_uuid": "a181980e6f7b21b21ff36873664b79e6aba73fac"
   },
   "outputs": [],
   "source": [
    "run_start_time = time()\n",
    "run_id = hashlib.md5('{:2.2f}-{}'.format(run_start_time, kernel_data).encode('ascii')).hexdigest()"
   ]
  },
  {
   "cell_type": "markdown",
   "metadata": {
    "_uuid": "be7bba1052e45303f01267372c78b17a2c2da38c"
   },
   "source": [
    "# Launch the kernels\n",
    "Here we use the Kaggle API to launch the kernels with the different settings"
   ]
  },
  {
   "cell_type": "code",
   "execution_count": 11,
   "metadata": {
    "_uuid": "dd4607fad9121d09dda12b74f5bb11e6fc1a71ed"
   },
   "outputs": [],
   "source": [
    "launched_kernels_list = []\n",
    "kernel_id_list = []\n",
    "cur_nb = nbformat.read(kernel_path, as_version = 4)\n",
    "for i, (sub_lines, cur_df) in enumerate(batches):\n",
    "    out_name = '{}-{:04d}'.format(run_id, i)\n",
    "    out_kernel_path = '{}.ipynb'.format(out_name)\n",
    "    new_nb = apply_replacement_df(kernel_data, cur_df)\n",
    "    # append cells containing useful metadata we might need later\n",
    "    last_cells = [nbf.new_markdown_cell('# Notebook Settings\\nThe last cell is just for metadata settings that will be read out later.')]\n",
    "    last_cells += [nbf.new_markdown_cell(json.dumps({'run_id': run_id,\n",
    "                                      'run_time': run_start_time,\n",
    "                                      'run_settings': sub_lines,\n",
    "                                                     'run_df': list(cur_df.T.to_dict().values())\n",
    "                                                    }))]\n",
    "    new_nb['cells']+=last_cells\n",
    "    nbformat.write(new_nb, out_kernel_path)\n",
    "    with open('kernel-metadata.json', 'w') as f:\n",
    "        meta_dict = notebook_meta_template(USER_ID, \n",
    "                           out_name, \n",
    "                           out_name, \n",
    "                           out_kernel_path)\n",
    "        json.dump(meta_dict, f)\n",
    "    if not DRY_RUN:\n",
    "        out_str = !kaggle kernels push -p .\n",
    "    else:\n",
    "        out_str = ['Not Run']\n",
    "    kernel_id_list += [dict(id=meta_dict['id'], **sub_lines)]\n",
    "    launched_kernels_list += [out_str] "
   ]
  },
  {
   "cell_type": "code",
   "execution_count": 12,
   "metadata": {
    "_uuid": "fbae82e2b2cc75214bc87b53ac40afb9596da55f"
   },
   "outputs": [
    {
     "name": "stdout",
     "output_type": "stream",
     "text": [
      "Not Run\n",
      "Not Run\n",
      "Not Run\n",
      "Not Run\n",
      "Not Run\n",
      "Not Run\n",
      "Not Run\n",
      "Not Run\n"
     ]
    }
   ],
   "source": [
    "for c_line in launched_kernels_list:\n",
    "    print(c_line[0])"
   ]
  },
  {
   "cell_type": "code",
   "execution_count": 13,
   "metadata": {
    "_uuid": "673a11aec1f2cee0aa8ccfe038a5b82197b1019e"
   },
   "outputs": [
    {
     "data": {
      "text/html": [
       "<div>\n",
       "<style scoped>\n",
       "    .dataframe tbody tr th:only-of-type {\n",
       "        vertical-align: middle;\n",
       "    }\n",
       "\n",
       "    .dataframe tbody tr th {\n",
       "        vertical-align: top;\n",
       "    }\n",
       "\n",
       "    .dataframe thead th {\n",
       "        text-align: right;\n",
       "    }\n",
       "</style>\n",
       "<table border=\"1\" class=\"dataframe\">\n",
       "  <thead>\n",
       "    <tr style=\"text-align: right;\">\n",
       "      <th></th>\n",
       "      <th>IMG_SIZE</th>\n",
       "      <th>id</th>\n",
       "      <th>use_attention</th>\n",
       "    </tr>\n",
       "  </thead>\n",
       "  <tbody>\n",
       "    <tr>\n",
       "      <th>0</th>\n",
       "      <td>(139, 139)</td>\n",
       "      <td>kevinbot/6c52f3e29082feb805bc87daaf490850-0000</td>\n",
       "      <td>False</td>\n",
       "    </tr>\n",
       "    <tr>\n",
       "      <th>1</th>\n",
       "      <td>(139, 139)</td>\n",
       "      <td>kevinbot/6c52f3e29082feb805bc87daaf490850-0001</td>\n",
       "      <td>True</td>\n",
       "    </tr>\n",
       "    <tr>\n",
       "      <th>2</th>\n",
       "      <td>(299, 299)</td>\n",
       "      <td>kevinbot/6c52f3e29082feb805bc87daaf490850-0002</td>\n",
       "      <td>False</td>\n",
       "    </tr>\n",
       "    <tr>\n",
       "      <th>3</th>\n",
       "      <td>(299, 299)</td>\n",
       "      <td>kevinbot/6c52f3e29082feb805bc87daaf490850-0003</td>\n",
       "      <td>True</td>\n",
       "    </tr>\n",
       "    <tr>\n",
       "      <th>4</th>\n",
       "      <td>(384, 384)</td>\n",
       "      <td>kevinbot/6c52f3e29082feb805bc87daaf490850-0004</td>\n",
       "      <td>False</td>\n",
       "    </tr>\n",
       "    <tr>\n",
       "      <th>5</th>\n",
       "      <td>(384, 384)</td>\n",
       "      <td>kevinbot/6c52f3e29082feb805bc87daaf490850-0005</td>\n",
       "      <td>True</td>\n",
       "    </tr>\n",
       "    <tr>\n",
       "      <th>6</th>\n",
       "      <td>(512, 512)</td>\n",
       "      <td>kevinbot/6c52f3e29082feb805bc87daaf490850-0006</td>\n",
       "      <td>False</td>\n",
       "    </tr>\n",
       "    <tr>\n",
       "      <th>7</th>\n",
       "      <td>(512, 512)</td>\n",
       "      <td>kevinbot/6c52f3e29082feb805bc87daaf490850-0007</td>\n",
       "      <td>True</td>\n",
       "    </tr>\n",
       "  </tbody>\n",
       "</table>\n",
       "</div>"
      ],
      "text/plain": [
       "     IMG_SIZE                                              id  use_attention\n",
       "0  (139, 139)  kevinbot/6c52f3e29082feb805bc87daaf490850-0000          False\n",
       "1  (139, 139)  kevinbot/6c52f3e29082feb805bc87daaf490850-0001           True\n",
       "2  (299, 299)  kevinbot/6c52f3e29082feb805bc87daaf490850-0002          False\n",
       "3  (299, 299)  kevinbot/6c52f3e29082feb805bc87daaf490850-0003           True\n",
       "4  (384, 384)  kevinbot/6c52f3e29082feb805bc87daaf490850-0004          False\n",
       "5  (384, 384)  kevinbot/6c52f3e29082feb805bc87daaf490850-0005           True\n",
       "6  (512, 512)  kevinbot/6c52f3e29082feb805bc87daaf490850-0006          False\n",
       "7  (512, 512)  kevinbot/6c52f3e29082feb805bc87daaf490850-0007           True"
      ]
     },
     "execution_count": 13,
     "metadata": {},
     "output_type": "execute_result"
    }
   ],
   "source": [
    "# export results to a text file\n",
    "kernel_df = pd.DataFrame(kernel_id_list)\n",
    "kernel_df.to_csv('kernels.csv', index=False)\n",
    "kernel_df"
   ]
  },
  {
   "cell_type": "markdown",
   "metadata": {
    "_uuid": "6d12fdb3880654d78ac24a977ff4e3491e8c7d2a",
    "collapsed": true
   },
   "source": [
    "# Status\n",
    "We can check the status like so if we want to follow up on the kernels"
   ]
  },
  {
   "cell_type": "code",
   "execution_count": 14,
   "metadata": {
    "_uuid": "ccc018afd5a1ffedf5fb643b0b727f909dbf23ad"
   },
   "outputs": [
    {
     "name": "stdout",
     "output_type": "stream",
     "text": [
      "(404)\r\n",
      "Reason: Not Found\r\n",
      "HTTP response headers: HTTPHeaderDict({'Cache-Control': 'private', 'Content-Length': '33', 'Content-Type': 'application/json; charset=utf-8', 'Set-Cookie': 'TempData=.16yH3HWBoWlSCfBIW/2rR02+JsrGGeGU/Npuv8afoyKRDpTtGe34k0RJ/b8S+OLbAeGMRENUSnsmgDnzsqKY3mOTDFsq7NYlpr0nI+HDkNibg/dMeGQxmH2Wwt4XLMJWxlfq3X9lahiqnziz81vZvfAa7Z+86Xhs77LcIQ/XzrtBIgGXkc3mgaAU+FHMR8MESqTDDVemn7BFORLaLgpWe+K7xEw=; path=/; secure; HttpOnly, ARRAffinity=f22663401b2cea415e7583dbe472f1a5aa4c7c97922fc8f06f7718766a4c8037;Path=/;HttpOnly;Domain=www.kaggle.com', 'X-Kaggle-MillisecondsElapsed': '67', 'X-Kaggle-RequestId': '59aa4ed0ffb85e1afed016b45d81bafc', 'X-Kaggle-ApiVersion': '1.4.2', 'Access-Control-Allow-Origin': '*', 'X-Frame-Options': 'SAMEORIGIN', 'Referrer-Policy': 'strict-origin-when-cross-origin', 'Date': 'Tue, 24 Jul 2018 15:57:01 GMT'})\r\n",
      "HTTP response body: {\"code\":404,\"message\":\"NotFound\"}\r\n",
      "\r\n"
     ]
    }
   ],
   "source": [
    "!kaggle kernels status -k {meta_dict['id']}"
   ]
  },
  {
   "cell_type": "code",
   "execution_count": null,
   "metadata": {
    "_uuid": "b48dd12b89771637c51321184d85799bb5f5dcfa"
   },
   "outputs": [],
   "source": []
  }
 ],
 "metadata": {
  "kernelspec": {
   "display_name": "Python 3",
   "language": "python",
   "name": "python3"
  },
  "language_info": {
   "codemirror_mode": {
    "name": "ipython",
    "version": 3
   },
   "file_extension": ".py",
   "mimetype": "text/x-python",
   "name": "python",
   "nbconvert_exporter": "python",
   "pygments_lexer": "ipython3",
   "version": "3.6.5"
  }
 },
 "nbformat": 4,
 "nbformat_minor": 1
}
